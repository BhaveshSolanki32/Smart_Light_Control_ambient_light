{
 "cells": [
  {
   "cell_type": "code",
   "execution_count": 3,
   "metadata": {},
   "outputs": [],
   "source": [
    "import tinytuya\n",
    "device_id = 'd7549dfe3c9e28db26racv'\n",
    "ip_address = '192.168.1.9'\n",
    "local_key = '^kts+/$fu!Wpd_O`'\n",
    "version = 3.5  # This may vary depending on your device"
   ]
  },
  {
   "cell_type": "code",
   "execution_count": 65,
   "metadata": {},
   "outputs": [],
   "source": [
    "d = tinytuya.OutletDevice(\n",
    "    dev_id=device_id,\n",
    "    address='Auto',      # Or set to 'Auto' to auto-discover IP address\n",
    "    local_key=local_key, \n",
    "    version=3.5)\n",
    "d.set_socketPersistent(True) "
   ]
  },
  {
   "cell_type": "code",
   "execution_count": 67,
   "metadata": {},
   "outputs": [],
   "source": [
    "d.turn_off()"
   ]
  },
  {
   "cell_type": "code",
   "execution_count": 66,
   "metadata": {},
   "outputs": [
    {
     "name": "stdout",
     "output_type": "stream",
     "text": [
      "{'protocol': 4, 't': 1743276600, 'data': {'dps': {'20': True}}, 'dps': {'20': True}}\n"
     ]
    }
   ],
   "source": [
    "# Turn off the light\n",
    "result = d.set_status(True, '20')\n",
    "print(result)\n"
   ]
  },
  {
   "cell_type": "code",
   "execution_count": 66,
   "metadata": {},
   "outputs": [
    {
     "name": "stdout",
     "output_type": "stream",
     "text": [
      "{'dps': {'20': True, '21': 'scene', '22': 1000, '23': 1000, '24': '000003e803e8', '25': '073232020126005a011800000000323202013302c2011600000000323202014f03e8011f0000000032320201400383011900000000', '26': 0, '34': True}}\n"
     ]
    }
   ],
   "source": [
    "data = d.status() \n",
    "print(data)"
   ]
  },
  {
   "cell_type": "code",
   "execution_count": 61,
   "metadata": {},
   "outputs": [],
   "source": [
    "d.turn_off()"
   ]
  },
  {
   "cell_type": "code",
   "execution_count": 62,
   "metadata": {},
   "outputs": [
    {
     "data": {
      "text/plain": [
       "'192.168.1.9'"
      ]
     },
     "execution_count": 62,
     "metadata": {},
     "output_type": "execute_result"
    }
   ],
   "source": [
    "d.address"
   ]
  },
  {
   "cell_type": "code",
   "execution_count": 127,
   "metadata": {},
   "outputs": [
    {
     "data": {
      "text/plain": [
       "6668"
      ]
     },
     "execution_count": 127,
     "metadata": {},
     "output_type": "execute_result"
    }
   ],
   "source": [
    "d.port"
   ]
  },
  {
   "cell_type": "code",
   "execution_count": 64,
   "metadata": {},
   "outputs": [],
   "source": [
    "d.set_dimmer(100)"
   ]
  },
  {
   "cell_type": "code",
   "execution_count": 74,
   "metadata": {},
   "outputs": [],
   "source": [
    "d.set_value('22', 1)"
   ]
  },
  {
   "cell_type": "code",
   "execution_count": 88,
   "metadata": {},
   "outputs": [],
   "source": [
    "# Set brightness (DPS 22, range 10-1000)\n",
    "d.set_value('22', 500)\n",
    "\n",
    "# Set color mode\n",
    "d.set_value('21', 'colour')\n",
    "\n",
    "# Set color (HSV format in DPS 24)\n",
    "# For red color (H=0, S=1000, V=1000)\n",
    "color_hsv = {'h': 190, 's': 100, 'v': 100}\n",
    "# d.set_colour(color_hsv['h'], color_hsv['s'], color_hsv['v'])\n",
    "# d.set_value('24', color_hsv)\n"
   ]
  },
  {
   "cell_type": "code",
   "execution_count": 11,
   "metadata": {},
   "outputs": [],
   "source": [
    "d = tinytuya.BulbDevice(device_id,ip_address,local_key)\n",
    "d.set_version(3.5)  # IMPORTANT to set this regardless of version\n",
    "d.set_socketPersistent(True)  # Optional: Keep socket open for multiple commands"
   ]
  },
  {
   "cell_type": "code",
   "execution_count": 5,
   "metadata": {},
   "outputs": [
    {
     "data": {
      "text/plain": [
       "{'dps': {'20': True,\n",
       "  '21': 'white',\n",
       "  '22': 1000,\n",
       "  '23': 953,\n",
       "  '24': '00cc00c20248',\n",
       "  '25': '073232020126005a00a300000000323202013302c200a100000000323202014f03e8009d0000000032320201400383009f00000000',\n",
       "  '26': 0,\n",
       "  '34': True}}"
      ]
     },
     "execution_count": 5,
     "metadata": {},
     "output_type": "execute_result"
    }
   ],
   "source": [
    "d.status()"
   ]
  },
  {
   "cell_type": "code",
   "execution_count": null,
   "metadata": {},
   "outputs": [
    {
     "data": {
      "text/plain": [
       "{'protocol': 4,\n",
       " 't': 1743318664,\n",
       " 'data': {'dps': {'22': 10}},\n",
       " 'dps': {'22': 10}}"
      ]
     },
     "execution_count": 12,
     "metadata": {},
     "output_type": "execute_result"
    },
    {
     "ename": "",
     "evalue": "",
     "output_type": "error",
     "traceback": [
      "\u001b[1;31mThe Kernel crashed while executing code in the current cell or a previous cell. \n",
      "\u001b[1;31mPlease review the code in the cell(s) to identify a possible cause of the failure. \n",
      "\u001b[1;31mClick <a href='https://aka.ms/vscodeJupyterKernelCrash'>here</a> for more info. \n",
      "\u001b[1;31mView Jupyter <a href='command:jupyter.viewOutput'>log</a> for further details."
     ]
    }
   ],
   "source": [
    "d.set_brightness_percentage(0)"
   ]
  },
  {
   "cell_type": "code",
   "execution_count": 115,
   "metadata": {},
   "outputs": [
    {
     "data": {
      "text/plain": [
       "{'protocol': 4,\n",
       " 't': 1743269482,\n",
       " 'data': {'dps': {'24': '00f302230174'}},\n",
       " 'dps': {'24': '00f302230174'}}"
      ]
     },
     "execution_count": 115,
     "metadata": {},
     "output_type": "execute_result"
    }
   ],
   "source": [
    "d.set_colour(100,100,55)"
   ]
  },
  {
   "cell_type": "code",
   "execution_count": 108,
   "metadata": {},
   "outputs": [],
   "source": [
    "import time"
   ]
  },
  {
   "cell_type": "code",
   "execution_count": 143,
   "metadata": {},
   "outputs": [
    {
     "name": "stdout",
     "output_type": "stream",
     "text": [
      "**************************************************\n",
      "change \n",
      "change \n",
      "change \n",
      "change \n",
      "change \n",
      "change \n",
      "change \n",
      "**************************************************\n",
      "change \n",
      "change \n",
      "change \n",
      "change \n",
      "change \n",
      "change \n",
      "change \n",
      "**************************************************\n",
      "change \n",
      "change \n",
      "change \n",
      "change \n",
      "change \n"
     ]
    },
    {
     "ename": "KeyboardInterrupt",
     "evalue": "",
     "output_type": "error",
     "traceback": [
      "\u001b[1;31m---------------------------------------------------------------------------\u001b[0m",
      "\u001b[1;31mKeyboardInterrupt\u001b[0m                         Traceback (most recent call last)",
      "Cell \u001b[1;32mIn[143], line 9\u001b[0m\n\u001b[0;32m      7\u001b[0m [r, g, b] \u001b[38;5;241m=\u001b[39m rainbow[color]\n\u001b[0;32m      8\u001b[0m d\u001b[38;5;241m.\u001b[39mset_colour(r, g, b, nowait\u001b[38;5;241m=\u001b[39m\u001b[38;5;28;01mTrue\u001b[39;00m)  \u001b[38;5;66;03m# nowait = Go fast don't wait for response\u001b[39;00m\n\u001b[1;32m----> 9\u001b[0m \u001b[43mtime\u001b[49m\u001b[38;5;241;43m.\u001b[39;49m\u001b[43msleep\u001b[49m\u001b[43m(\u001b[49m\u001b[38;5;241;43m0.25\u001b[39;49m\u001b[43m)\u001b[49m\n\u001b[0;32m     10\u001b[0m \u001b[38;5;28mprint\u001b[39m(\u001b[38;5;124m'\u001b[39m\u001b[38;5;124mchange \u001b[39m\u001b[38;5;124m'\u001b[39m)\n",
      "\u001b[1;31mKeyboardInterrupt\u001b[0m: "
     ]
    }
   ],
   "source": [
    "rainbow = {\"red\": [255, 0, 0], \"orange\": [255, 127, 0], \"yellow\": [255, 200, 0],\n",
    "          \"green\": [0, 255, 0], \"blue\": [0, 0, 255], \"indigo\": [46, 43, 95],\n",
    "          \"violet\": [139, 0, 255]}\n",
    "while True:\n",
    "    print('*'*50)\n",
    "    for color in rainbow:\n",
    "        [r, g, b] = rainbow[color]\n",
    "        d.set_colour(r, g, b, nowait=True)  # nowait = Go fast don't wait for response\n",
    "        time.sleep(0.25)\n",
    "        print('change ')\n"
   ]
  },
  {
   "cell_type": "code",
   "execution_count": null,
   "metadata": {},
   "outputs": [],
   "source": []
  },
  {
   "cell_type": "code",
   "execution_count": 120,
   "metadata": {},
   "outputs": [
    {
     "data": {
      "text/plain": [
       "{'protocol': 4,\n",
       " 't': 1743269648,\n",
       " 'data': {'dps': {'21': 'scene'}},\n",
       " 'dps': {'21': 'scene'}}"
      ]
     },
     "execution_count": 120,
     "metadata": {},
     "output_type": "execute_result"
    }
   ],
   "source": [
    "d.set_mode('scene')"
   ]
  },
  {
   "cell_type": "code",
   "execution_count": 130,
   "metadata": {},
   "outputs": [],
   "source": [
    "from PIL import ImageGrab, Image\n"
   ]
  },
  {
   "cell_type": "code",
   "execution_count": 5,
   "metadata": {},
   "outputs": [],
   "source": [
    "def capture_screen():\n",
    "    \"\"\"Capture the screen and resize for faster processing\"\"\"\n",
    "    screenshot = ImageGrab.grab()\n",
    "    screenshot.show()\n",
    "    # Resize to smaller dimensions for faster processing\n",
    "    screenshot.save('grab.webp', lossless=True)\n",
    "    screenshot = screenshot.resize((100, 75), Image.LANCZOS)\n",
    "    return screenshot"
   ]
  },
  {
   "cell_type": "code",
   "execution_count": 6,
   "metadata": {},
   "outputs": [],
   "source": [
    "screenshot = capture_screen()\n",
    "# Image.SAVE('temo.png',screenshot)"
   ]
  },
  {
   "cell_type": "code",
   "execution_count": 47,
   "metadata": {},
   "outputs": [],
   "source": [
    "from test_screen_grab import *"
   ]
  },
  {
   "cell_type": "code",
   "execution_count": 63,
   "metadata": {},
   "outputs": [
    {
     "name": "stdout",
     "output_type": "stream",
     "text": [
      "Updated color: RGB(255,0,0\n",
      "Updated color: RGB(0,255,0\n",
      "Updated color: RGB(0,0,255\n"
     ]
    },
    {
     "data": {
      "text/plain": [
       "True"
      ]
     },
     "execution_count": 63,
     "metadata": {},
     "output_type": "execute_result"
    }
   ],
   "source": [
    "# Test red\n",
    "set_bulb_color(255, 0, 0)\n",
    "time.sleep(1)\n",
    "# Test green\n",
    "set_bulb_color(0, 255, 0)\n",
    "time.sleep(1)\n",
    "# Test blue\n",
    "set_bulb_color(0, 0, 255)\n"
   ]
  },
  {
   "cell_type": "code",
   "execution_count": 2,
   "metadata": {},
   "outputs": [],
   "source": [
    "from colorthief import ColorThief"
   ]
  },
  {
   "cell_type": "code",
   "execution_count": 3,
   "metadata": {},
   "outputs": [],
   "source": [
    "ct = ColorThief('grab.webp')"
   ]
  },
  {
   "cell_type": "code",
   "execution_count": 4,
   "metadata": {},
   "outputs": [
    {
     "data": {
      "text/plain": [
       "(34, 34, 34)"
      ]
     },
     "execution_count": 4,
     "metadata": {},
     "output_type": "execute_result"
    }
   ],
   "source": [
    "ct.get_color(quality=1)"
   ]
  },
  {
   "cell_type": "code",
   "execution_count": null,
   "metadata": {},
   "outputs": [
    {
     "data": {
      "text/plain": [
       "[(34, 36, 38), (191, 169, 144), (83, 166, 163)]"
      ]
     },
     "execution_count": 7,
     "metadata": {},
     "output_type": "execute_result"
    }
   ],
   "source": [
    "ct.get_palette(color_count=2, quality=1)"
   ]
  },
  {
   "cell_type": "code",
   "execution_count": 14,
   "metadata": {},
   "outputs": [
    {
     "data": {
      "text/plain": [
       "(np.int64(29), np.int64(29), np.int64(29))"
      ]
     },
     "execution_count": 14,
     "metadata": {},
     "output_type": "execute_result"
    }
   ],
   "source": [
    "s =capture_screen()\n",
    "find_dominant_color(s)"
   ]
  },
  {
   "cell_type": "code",
   "execution_count": 16,
   "metadata": {},
   "outputs": [],
   "source": [
    "def get_dominant_color_from_screen():\n",
    "    # Capture the screen\n",
    "    screenshot = ImageGrab.grab()\n",
    "    \n",
    "    # Save the screenshot to a BytesIO object\n",
    "    img_byte_arr = io.BytesIO()\n",
    "    screenshot.save(img_byte_arr, format='PNG')\n",
    "    img_byte_arr.seek(0)\n",
    "    \n",
    "    # Use ColorThief to get the dominant color\n",
    "    color_thief = ColorThief(img_byte_arr)\n",
    "    dominant_color = color_thief.get_color(quality=1)\n",
    "    \n",
    "    return dominant_color"
   ]
  },
  {
   "cell_type": "code",
   "execution_count": 18,
   "metadata": {},
   "outputs": [],
   "source": [
    "import io"
   ]
  },
  {
   "cell_type": "code",
   "execution_count": 21,
   "metadata": {},
   "outputs": [
    {
     "data": {
      "text/plain": [
       "(34, 34, 34)"
      ]
     },
     "execution_count": 21,
     "metadata": {},
     "output_type": "execute_result"
    }
   ],
   "source": [
    "get_dominant_color_from_screen()"
   ]
  },
  {
   "cell_type": "code",
   "execution_count": null,
   "metadata": {},
   "outputs": [],
   "source": [
    "def get_dominant_color():\n",
    "    \"\"\"Capture center 50% of screen at low resolution and find dominant color\"\"\"\n",
    "    # Get full screen size first\n",
    "    full_screen = ImageGrab.grab()\n",
    "    width, height = full_screen.size\n",
    "    \n",
    "    # Calculate center 50% coordinates\n",
    "    left = width // 4\n",
    "    top = height // 4\n",
    "    right = width * 3 // 4\n",
    "    bottom = height * 3 // 4\n",
    "    \n",
    "    # Capture only the center portion at very low resolution\n",
    "    screenshot = ImageGrab.grab(bbox=(left, top, right, bottom)).resize((50, 50))\n",
    "    \n",
    "    # Convert to numpy array for faster processing\n",
    "    img_array = np.array(screenshot)\n",
    "    \n",
    "    # Flatten the image and quantize colors\n",
    "    pixels = img_array.reshape(-1, 3)\n",
    "    pixels = (pixels // 32) * 32  # Quantize to reduce unique colors\n",
    "    \n",
    "    # Find most common color using numpy's unique function\n",
    "    unique_colors, counts = np.unique(pixels, axis=0, return_counts=True)\n",
    "    dominant_color = unique_colors[np.argmax(counts)]\n",
    "    \n",
    "    return tuple(dominant_color)"
   ]
  },
  {
   "cell_type": "code",
   "execution_count": 25,
   "metadata": {},
   "outputs": [
    {
     "data": {
      "text/plain": [
       "(np.uint8(32), np.uint8(32), np.uint8(32))"
      ]
     },
     "execution_count": 25,
     "metadata": {},
     "output_type": "execute_result"
    }
   ],
   "source": [
    "get_dominant_color()"
   ]
  },
  {
   "cell_type": "code",
   "execution_count": 33,
   "metadata": {},
   "outputs": [],
   "source": [
    "import numpy as np\n",
    "from PIL import ImageGrab\n",
    "from collections import Counter\n",
    "\n",
    "def get_average_dominant_colors(num_colors=5):\n",
    "    \"\"\"Capture center 50% of screen and find average of top dominant colors\"\"\"\n",
    "    # Get full screen size first\n",
    "    full_screen = ImageGrab.grab()\n",
    "    width, height = full_screen.size\n",
    "    \n",
    "    # Calculate center 50% coordinates\n",
    "    left = width // 4\n",
    "    top = height // 4\n",
    "    right = width * 3 // 4\n",
    "    bottom = height * 3 // 4\n",
    "    \n",
    "    # Capture only the center portion at low resolution\n",
    "    screenshot = ImageGrab.grab(bbox=(left, top, right, bottom)).resize((60, 45))\n",
    "    \n",
    "    # Convert to numpy array for faster processing\n",
    "    img_array = np.array(screenshot, dtype=np.float64)  # Use float64 to avoid overflow\n",
    "    \n",
    "    # Flatten the image and quantize colors\n",
    "    pixels = img_array.reshape(-1, 3)\n",
    "    pixels = (pixels // 32) * 32  # Quantize to reduce unique colors\n",
    "    \n",
    "    # Convert to tuples for counting\n",
    "    pixel_tuples = [tuple(map(int, pixel)) for pixel in pixels]\n",
    "    \n",
    "    # Count occurrences of each color\n",
    "    color_counts = Counter(pixel_tuples)\n",
    "    \n",
    "    # Get the top N most common colors\n",
    "    top_colors = color_counts.most_common(num_colors)\n",
    "    \n",
    "    if not top_colors:\n",
    "        return (0, 0, 0)\n",
    "    \n",
    "    # Calculate weighted average based on frequency\n",
    "    total_weight = sum(count for _, count in top_colors)\n",
    "    avg_r = sum(r * count for (r, g, b), count in top_colors) / total_weight\n",
    "    avg_g = sum(g * count for (r, g, b), count in top_colors) / total_weight\n",
    "    avg_b = sum(b * count for (r, g, b), count in top_colors) / total_weight\n",
    "    \n",
    "    return (int(avg_r), int(avg_g), int(avg_b))\n"
   ]
  },
  {
   "cell_type": "code",
   "execution_count": 44,
   "metadata": {},
   "outputs": [
    {
     "data": {
      "text/plain": [
       "(27, 27, 27)"
      ]
     },
     "execution_count": 44,
     "metadata": {},
     "output_type": "execute_result"
    }
   ],
   "source": [
    "get_average_dominant_colors()"
   ]
  },
  {
   "cell_type": "code",
   "execution_count": 1,
   "metadata": {},
   "outputs": [],
   "source": [
    "# depricated\n",
    "def capture_screen():\n",
    "    \"\"\"Capture screen with focused color regions\"\"\"\n",
    "    # Capture entire screen\n",
    "    screen = ImageGrab.grab()\n",
    "    # Convert to numpy array and crop to center 50% for better focus\n",
    "    arr = np.array(screen)\n",
    "    h, w = arr.shape[:2]\n",
    "    return arr[h//4:h*3//4, w//4:w*3//4]\n",
    "\n",
    "def find_dominant_color(image_array, clusters=3): # kmean\n",
    "    \"\"\"Use K-means clustering for better color detection\"\"\"\n",
    "    # Reshape and normalize\n",
    "    pixels = image_array.reshape(-1, 3).astype(float)\n",
    "    pixels /= 255.0\n",
    "    \n",
    "    # Perform K-means clustering\n",
    "    kmeans = MiniBatchKMeans(n_clusters=clusters, n_init=3)\n",
    "    labels = kmeans.fit_predict(pixels)\n",
    "    \n",
    "    # Get cluster counts and centroids\n",
    "    counts = np.bincount(labels)\n",
    "    main_color = kmeans.cluster_centers_[np.argmax(counts)] * 255\n",
    "    \n",
    "    return tuple(main_color.astype(int))\n",
    "\n",
    "def get_dominant_color_from_screen(): # color thief\n",
    "    # Capture the screen\n",
    "    screenshot = ImageGrab.grab()\n",
    "    \n",
    "    # Save the screenshot to a BytesIO object\n",
    "    img_byte_arr = io.BytesIO()\n",
    "    screenshot.save(img_byte_arr, format='PNG')\n",
    "    img_byte_arr.seek(0)\n",
    "    \n",
    "    # Use ColorThief to get the dominant color\n",
    "    color_thief = ColorThief(img_byte_arr)\n",
    "    dominant_color = color_thief.get_color(quality=1)\n",
    "    \n",
    "    return dominant_color\n",
    "\n",
    "def get_dominant_color(): # resize and highest occurrence\n",
    "    \"\"\"Capture center 50% of screen at low resolution and find dominant color\"\"\"\n",
    "    # Get full screen size first\n",
    "    full_screen = ImageGrab.grab()\n",
    "    width, height = full_screen.size\n",
    "    \n",
    "    # Calculate center 50% coordinates\n",
    "    left = width // 4\n",
    "    top = height // 4\n",
    "    right = width * 3 // 4\n",
    "    bottom = height * 3 // 4\n",
    "    \n",
    "    # Capture only the center portion at very low resolution\n",
    "    screenshot = ImageGrab.grab(bbox=(left, top, right, bottom)).resize((50, 50))\n",
    "    \n",
    "    # Convert to numpy array for faster processing\n",
    "    img_array = np.array(screenshot)\n",
    "    \n",
    "    # Flatten the image and quantize colors\n",
    "    pixels = img_array.reshape(-1, 3)\n",
    "    pixels = (pixels // 32) * 32  # Quantize to reduce unique colors\n",
    "    \n",
    "    # Find most common color using numpy's unique function\n",
    "    unique_colors, counts = np.unique(pixels, axis=0, return_counts=True)\n",
    "    dominant_color = unique_colors[np.argmax(counts)]\n",
    "    \n",
    "    return tuple(dominant_color)\n",
    "\n",
    "def get_average_dominant_colors(num_colors=5):\n",
    "    \"\"\"Capture center 50% of screen and find average of top dominant colors\"\"\"\n",
    "    # Get full screen size first\n",
    "    full_screen = ImageGrab.grab()\n",
    "    width, height = full_screen.size\n",
    "    \n",
    "    # Calculate center 50% coordinates\n",
    "    left = width // 4\n",
    "    top = height // 4\n",
    "    right = width * 3 // 4\n",
    "    bottom = height * 3 // 4\n",
    "    \n",
    "    # Capture only the center portion at low resolution\n",
    "    screenshot = ImageGrab.grab(bbox=(left, top, right, bottom)).resize((60, 45))\n",
    "    \n",
    "    # Convert to numpy array for faster processing\n",
    "    img_array = np.array(screenshot, dtype=np.float64)  # Use float64 to avoid overflow\n",
    "    \n",
    "    # Flatten the image and quantize colors\n",
    "    pixels = img_array.reshape(-1, 3)\n",
    "    pixels = (pixels // 32) * 32  # Quantize to reduce unique colors\n",
    "    \n",
    "    # Convert to tuples for counting\n",
    "    pixel_tuples = [tuple(map(int, pixel)) for pixel in pixels]\n",
    "    \n",
    "    # Count occurrences of each color\n",
    "    color_counts = Counter(pixel_tuples)\n",
    "    \n",
    "    # Get the top N most common colors\n",
    "    top_colors = color_counts.most_common(num_colors)\n",
    "    \n",
    "    if not top_colors:\n",
    "        return (0, 0, 0)\n",
    "    \n",
    "    # Calculate weighted average based on frequency\n",
    "    total_weight = sum(count for _, count in top_colors)\n",
    "    avg_r = sum(r * count for (r, g, b), count in top_colors) / total_weight\n",
    "    avg_g = sum(g * count for (r, g, b), count in top_colors) / total_weight\n",
    "    avg_b = sum(b * count for (r, g, b), count in top_colors) / total_weight\n",
    "    \n",
    "    return (int(avg_r), int(avg_g), int(avg_b))\n"
   ]
  },
  {
   "cell_type": "code",
   "execution_count": 61,
   "metadata": {},
   "outputs": [],
   "source": [
    "def interpolate_color(start_color, end_color, steps):\n",
    "    \"\"\"Create a smooth transition between two colors\"\"\"\n",
    "    r_start, g_start, b_start = start_color\n",
    "    r_end, g_end, b_end = end_color\n",
    "    \n",
    "    r_step = (r_end - r_start) / steps\n",
    "    g_step = (g_end - g_start) / steps\n",
    "    b_step = (b_end - b_start) / steps\n",
    "    \n",
    "    colors = []\n",
    "    for i in range(steps):\n",
    "        r = int(r_start + r_step * i)\n",
    "        g = int(g_start + g_step * i)\n",
    "        b = int(b_start + b_step * i)\n",
    "        colors.append((r, g, b))\n",
    "    \n",
    "    return colors\n",
    "\n",
    "def main():\n",
    "    print(\"Starting smooth color sync...\")\n",
    "    current_color = (0, 0, 0)\n",
    "    transition_time = 0.1  # Time in seconds for color transition\n",
    "    transition_steps = 10   # Number of steps in the transition\n",
    "    step_time = transition_time / transition_steps\n",
    "    \n",
    "    try:\n",
    "        while True:\n",
    "            # Get new target color\n",
    "            target_color = get_average_dominant_colors(3)\n",
    "            \n",
    "            # Only transition if color has changed significantly\n",
    "            if sum(abs(a-b) for a, b in zip(current_color, target_color)) > 20:\n",
    "                # Generate transition colors\n",
    "                transition_colors = interpolate_color(current_color, target_color, transition_steps)\n",
    "                \n",
    "                # Apply each transition color\n",
    "                for color in transition_colors:\n",
    "                    set_bulb_color(*color)\n",
    "                    # time.sleep(step_time)\n",
    "                \n",
    "                # Set final color to ensure accuracy\n",
    "                set_bulb_color(*target_color)\n",
    "                current_color = target_color\n",
    "                print(f\"Completed transition to RGB{target_color}\")\n",
    "                time.sleep(0.1)\n",
    "\n",
    "            \n",
    "    except KeyboardInterrupt:\n",
    "        print(\"\\nStopping color sync...\")\n",
    "    finally:\n",
    "        bulb.set_socketPersistent(False)\n"
   ]
  },
  {
   "cell_type": "code",
   "execution_count": null,
   "metadata": {},
   "outputs": [],
   "source": [
    "main()\n"
   ]
  },
  {
   "cell_type": "code",
   "execution_count": null,
   "metadata": {},
   "outputs": [],
   "source": [
    "import tkinter as tk\n",
    "from tkinter import ttk\n",
    "import threading\n",
    "import time\n",
    "\n",
    "# Import helper functions from your main file.\n",
    "# Make sure your main file (e.g., main.py) is in the same directory or in your PYTHONPATH.\n",
    "from test_screen_grab import *\n",
    "# Global flags and parameters\n",
    "running = False\n",
    "sync_thread = None\n",
    "brightness = 500      # percentage (0-100)\n",
    "refresh_rate = 0.1    # seconds between updates\n",
    "dom_color = 3\n",
    "brightness_extra=100\n",
    "def sync_loop():\n",
    "    \"\"\"Continuously grabs the dominant color, applies brightness scaling,\n",
    "    and updates the bulb.\"\"\"\n",
    "    global brightness, refresh_rate, running, dom_color, brightness_extra\n",
    "    last_color = (0, 0, 0)\n",
    "    last_brightness = 0\n",
    "    while running:\n",
    "        # Grab dominant color from the central region\n",
    "        dominant_color = get_average_dominant_colors(dom_color)\n",
    "        \n",
    "        # Scale the RGB values by the brightness factor (as a percentage)\n",
    "        scaled_color = tuple(min(255, int(c * brightness_extra / 100)) for c in dominant_color)\n",
    "        \n",
    "        if scaled_color != last_color:\n",
    "            set_bulb_color(*scaled_color)\n",
    "            last_color = scaled_color\n",
    "        \n",
    "        if brightness != last_brightness:\n",
    "            set_bulb_brightness(brightness)\n",
    "            last_brightness = brightness\n",
    "\n",
    "        time.sleep(refresh_rate)\n",
    "\n",
    "def start_sync():\n",
    "    \"\"\"Starts the background thread for syncing color.\"\"\"\n",
    "    global running, sync_thread\n",
    "    if not running:\n",
    "        running = True\n",
    "        sync_thread = threading.Thread(target=sync_loop, daemon=True)\n",
    "        sync_thread.start()\n",
    "        start_stop_button.config(text=\"Stop\")\n",
    "\n",
    "def stop_sync():\n",
    "    \"\"\"Stops the color syncing loop.\"\"\"\n",
    "    global running\n",
    "    running = False\n",
    "    start_stop_button.config(text=\"Start\")\n",
    "\n",
    "def toggle_sync():\n",
    "    \"\"\"Toggle the syncing loop on or off.\"\"\"\n",
    "    if running:\n",
    "        stop_sync()\n",
    "    else:\n",
    "        start_sync()\n",
    "\n",
    "def on_brightness_change(val):\n",
    "    \"\"\"Updates the brightness value when the slider is moved.\"\"\"\n",
    "    global brightness\n",
    "    brightness = float(val)\n",
    "\n",
    "def on_numOfDomColor_change(val):\n",
    "    global dom_color\n",
    "    dom_color = int(round(float(val)))\n",
    "\n",
    "def on_refresh_rate_change(val):\n",
    "    \"\"\"Updates the refresh rate when the slider is moved.\"\"\"\n",
    "    global refresh_rate\n",
    "    refresh_rate = float(val)\n",
    "\n",
    "def on_brightness_extra_change(val):\n",
    "    global brightness_extra\n",
    "    brightness_extra = float(val)\n",
    "\n",
    "\n",
    "def on_closing():\n",
    "    \"\"\"Handle the window closing event.\"\"\"\n",
    "    global running\n",
    "    running = False  # Stop the syncing loop\n",
    "    root.destroy()   # Close the Tkinter window\n",
    "\n",
    "\n",
    "\n",
    "# Set up the Tkinter GUI\n",
    "root = tk.Tk()\n",
    "root.title(\"Lighting Control\")\n",
    "\n",
    "# Brightness slider (0% to 100%)\n",
    "brightness_label = ttk.Label(root, text=\"Brightness (%)\")\n",
    "brightness_label.pack(pady=5)\n",
    "\n",
    "brightness_slider = ttk.Scale(root, from_=10, to=1000, orient='horizontal',\n",
    "                              command=on_brightness_change)\n",
    "brightness_slider.set(500)\n",
    "brightness_slider.pack(pady=5)\n",
    "\n",
    "# num of dom colors slider (0% to 100%)\n",
    "domColor_label = ttk.Label(root, text=\"Number of dom colors\")\n",
    "domColor_label.pack(pady=5)\n",
    "\n",
    "domColor_slider = ttk.Scale(root, from_=1, to=10, orient='horizontal',\n",
    "                              command=on_numOfDomColor_change)\n",
    "domColor_slider.set(3)\n",
    "domColor_slider.pack(pady=5)\n",
    "\n",
    "# Brightness extra slider (0% to 100%)\n",
    "domColor_label = ttk.Label(root, text=\"Extra Brightness\")\n",
    "domColor_label.pack(pady=5)\n",
    "\n",
    "domColor_slider = ttk.Scale(root, from_=0, to=100, orient='horizontal',\n",
    "                              command=on_brightness_extra_change)\n",
    "domColor_slider.set(100)\n",
    "domColor_slider.pack(pady=5)\n",
    "\n",
    "# Refresh Rate slider (0.05 to 1.0 seconds)\n",
    "refresh_label = ttk.Label(root, text=\"Refresh Rate (seconds)\")\n",
    "refresh_label.pack(pady=5)\n",
    "\n",
    "refresh_slider = ttk.Scale(root, from_=0.05, to=1.0, orient='horizontal',\n",
    "                           command=on_refresh_rate_change)\n",
    "refresh_slider.set(0.1)\n",
    "refresh_slider.pack(pady=5)\n",
    "\n",
    "# Start/Stop button to toggle the syncing loop\n",
    "start_stop_button = ttk.Button(root, text=\"Start\", command=toggle_sync)\n",
    "start_stop_button.pack(pady=10)\n",
    "# Bind closing event\n",
    "\n",
    "root.protocol(\"WM_DELETE_WINDOW\", on_closing)\n",
    "root.geometry(\"280x320\")\n",
    "root.mainloop()\n",
    "\n"
   ]
  },
  {
   "cell_type": "code",
   "execution_count": 69,
   "metadata": {},
   "outputs": [],
   "source": [
    "from test_screen_grab import *\n"
   ]
  },
  {
   "cell_type": "code",
   "execution_count": 5,
   "metadata": {},
   "outputs": [
    {
     "name": "stdout",
     "output_type": "stream",
     "text": [
      "12\n"
     ]
    }
   ],
   "source": [
    "import numpy as np \n",
    "print(np.clip(12, 6, 20)) \n"
   ]
  },
  {
   "cell_type": "code",
   "execution_count": 8,
   "metadata": {},
   "outputs": [
    {
     "name": "stdout",
     "output_type": "stream",
     "text": [
      "255\n"
     ]
    }
   ],
   "source": [
    "clamp_range=(10,255)\n",
    "print(np.clip(800, *clamp_range))"
   ]
  },
  {
   "cell_type": "code",
   "execution_count": 1,
   "metadata": {},
   "outputs": [],
   "source": [
    "import io\n",
    "import numpy as np\n",
    "from PIL import ImageGrab\n",
    "from colorthief import ColorThief\n",
    "\n",
    "def get_average_dominant_colors(num_colors=5, clamp_range=(10, 255)):\n",
    "    # Capture the central region of the screen\n",
    "    full_screen = ImageGrab.grab()\n",
    "    width, height = full_screen.size    \n",
    "    left = width // 4\n",
    "    top = height // 4\n",
    "    right = width * 3 // 4\n",
    "    bottom = height * 3 // 4\n",
    "    screenshot = ImageGrab.grab(bbox=(left, top, right, bottom)).resize((60, 45))\n",
    "    \n",
    "    # Save the screenshot to an in-memory bytes buffer\n",
    "    buf = io.BytesIO()\n",
    "    screenshot.save(buf, format='PNG')\n",
    "    buf.seek(0)\n",
    "    \n",
    "    # Use ColorThief to get a palette of dominant colors\n",
    "    ct = ColorThief(buf)\n",
    "    palette = ct.get_palette(color_count=num_colors, quality=1)\n",
    "    \n",
    "    if not palette:\n",
    "        return (0, 0, 0)\n",
    "    \n",
    "    # Average the palette colors (unweighted, as ColorThief doesn't provide frequencies)\n",
    "    avg_r = sum(color[0] for color in palette) / len(palette)\n",
    "    avg_g = sum(color[1] for color in palette) / len(palette)\n",
    "    avg_b = sum(color[2] for color in palette) / len(palette)\n",
    "    \n",
    "    # Clamp the averaged colors within the specified range\n",
    "    avg_r = np.clip(avg_r, clamp_range[0], clamp_range[1])\n",
    "    avg_g = np.clip(avg_g, clamp_range[0], clamp_range[1])\n",
    "    avg_b = np.clip(avg_b, clamp_range[0], clamp_range[1])\n",
    "    \n",
    "    return (int(avg_r), int(avg_g), int(avg_b))\n"
   ]
  },
  {
   "cell_type": "code",
   "execution_count": 4,
   "metadata": {},
   "outputs": [
    {
     "data": {
      "text/plain": [
       "(54, 54, 55)"
      ]
     },
     "execution_count": 4,
     "metadata": {},
     "output_type": "execute_result"
    }
   ],
   "source": [
    "get_average_dominant_colors()"
   ]
  },
  {
   "cell_type": "code",
   "execution_count": null,
   "metadata": {},
   "outputs": [],
   "source": []
  }
 ],
 "metadata": {
  "kernelspec": {
   "display_name": "venv",
   "language": "python",
   "name": "python3"
  },
  "language_info": {
   "codemirror_mode": {
    "name": "ipython",
    "version": 3
   },
   "file_extension": ".py",
   "mimetype": "text/x-python",
   "name": "python",
   "nbconvert_exporter": "python",
   "pygments_lexer": "ipython3",
   "version": "3.10.6"
  }
 },
 "nbformat": 4,
 "nbformat_minor": 2
}
